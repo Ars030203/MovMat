{
 "cells": [
  {
   "cell_type": "code",
   "execution_count": 21,
   "id": "ec77bef2",
   "metadata": {},
   "outputs": [
    {
     "name": "stdout",
     "output_type": "stream",
     "text": [
      "Defaulting to user installation because normal site-packages is not writeable\n",
      "Requirement already satisfied: cinemagoer in /home/selector/.local/lib/python3.10/site-packages (2023.5.1)\n",
      "Requirement already satisfied: SQLAlchemy in /home/selector/.local/lib/python3.10/site-packages (from cinemagoer) (2.0.18)\n",
      "Requirement already satisfied: lxml in /home/selector/.local/lib/python3.10/site-packages (from cinemagoer) (4.9.1)\n",
      "Requirement already satisfied: typing-extensions>=4.2.0 in /home/selector/.local/lib/python3.10/site-packages (from SQLAlchemy->cinemagoer) (4.3.0)\n",
      "Requirement already satisfied: greenlet!=0.4.17 in /home/selector/.local/lib/python3.10/site-packages (from SQLAlchemy->cinemagoer) (2.0.2)\n"
     ]
    }
   ],
   "source": [
    "!pip install cinemagoer"
   ]
  },
  {
   "cell_type": "code",
   "execution_count": 31,
   "id": "1022858f",
   "metadata": {},
   "outputs": [],
   "source": [
    "# Imports ->\n",
    "import pandas as pd\n",
    "import numpy as np\n",
    "from imdb import Cinemagoer , IMDb\n"
   ]
  },
  {
   "cell_type": "code",
   "execution_count": 25,
   "id": "7a767e72",
   "metadata": {},
   "outputs": [
    {
     "data": {
      "text/html": [
       "<div>\n",
       "<style scoped>\n",
       "    .dataframe tbody tr th:only-of-type {\n",
       "        vertical-align: middle;\n",
       "    }\n",
       "\n",
       "    .dataframe tbody tr th {\n",
       "        vertical-align: top;\n",
       "    }\n",
       "\n",
       "    .dataframe thead th {\n",
       "        text-align: right;\n",
       "    }\n",
       "</style>\n",
       "<table border=\"1\" class=\"dataframe\">\n",
       "  <thead>\n",
       "    <tr style=\"text-align: right;\">\n",
       "      <th></th>\n",
       "      <th>Actor</th>\n",
       "      <th>ActorID</th>\n",
       "      <th>Film</th>\n",
       "      <th>Year</th>\n",
       "      <th>Votes</th>\n",
       "      <th>Rating</th>\n",
       "      <th>FilmID</th>\n",
       "    </tr>\n",
       "  </thead>\n",
       "  <tbody>\n",
       "    <tr>\n",
       "      <th>0</th>\n",
       "      <td>Fred Astaire</td>\n",
       "      <td>nm0000001</td>\n",
       "      <td>Ghost Story</td>\n",
       "      <td>1981</td>\n",
       "      <td>7731</td>\n",
       "      <td>6.3</td>\n",
       "      <td>tt0082449</td>\n",
       "    </tr>\n",
       "    <tr>\n",
       "      <th>1</th>\n",
       "      <td>Fred Astaire</td>\n",
       "      <td>nm0000001</td>\n",
       "      <td>The Purple Taxi</td>\n",
       "      <td>1977</td>\n",
       "      <td>533</td>\n",
       "      <td>6.6</td>\n",
       "      <td>tt0076851</td>\n",
       "    </tr>\n",
       "    <tr>\n",
       "      <th>2</th>\n",
       "      <td>Fred Astaire</td>\n",
       "      <td>nm0000001</td>\n",
       "      <td>The Amazing Dobermans</td>\n",
       "      <td>1976</td>\n",
       "      <td>369</td>\n",
       "      <td>5.3</td>\n",
       "      <td>tt0074130</td>\n",
       "    </tr>\n",
       "    <tr>\n",
       "      <th>3</th>\n",
       "      <td>Fred Astaire</td>\n",
       "      <td>nm0000001</td>\n",
       "      <td>The Towering Inferno</td>\n",
       "      <td>1974</td>\n",
       "      <td>39888</td>\n",
       "      <td>7.0</td>\n",
       "      <td>tt0072308</td>\n",
       "    </tr>\n",
       "    <tr>\n",
       "      <th>4</th>\n",
       "      <td>Fred Astaire</td>\n",
       "      <td>nm0000001</td>\n",
       "      <td>Midas Run</td>\n",
       "      <td>1969</td>\n",
       "      <td>123</td>\n",
       "      <td>4.8</td>\n",
       "      <td>tt0064664</td>\n",
       "    </tr>\n",
       "  </tbody>\n",
       "</table>\n",
       "</div>"
      ],
      "text/plain": [
       "          Actor    ActorID                   Film  Year  Votes  Rating  \\\n",
       "0  Fred Astaire  nm0000001            Ghost Story  1981   7731     6.3   \n",
       "1  Fred Astaire  nm0000001        The Purple Taxi  1977    533     6.6   \n",
       "2  Fred Astaire  nm0000001  The Amazing Dobermans  1976    369     5.3   \n",
       "3  Fred Astaire  nm0000001   The Towering Inferno  1974  39888     7.0   \n",
       "4  Fred Astaire  nm0000001              Midas Run  1969    123     4.8   \n",
       "\n",
       "      FilmID  \n",
       "0  tt0082449  \n",
       "1  tt0076851  \n",
       "2  tt0074130  \n",
       "3  tt0072308  \n",
       "4  tt0064664  "
      ]
     },
     "execution_count": 25,
     "metadata": {},
     "output_type": "execute_result"
    }
   ],
   "source": [
    "df_cast = pd.read_csv('../actorfilms.csv')\n",
    "df_cast.head()"
   ]
  },
  {
   "cell_type": "code",
   "execution_count": 26,
   "id": "9499075d",
   "metadata": {},
   "outputs": [
    {
     "data": {
      "text/html": [
       "<div>\n",
       "<style scoped>\n",
       "    .dataframe tbody tr th:only-of-type {\n",
       "        vertical-align: middle;\n",
       "    }\n",
       "\n",
       "    .dataframe tbody tr th {\n",
       "        vertical-align: top;\n",
       "    }\n",
       "\n",
       "    .dataframe thead th {\n",
       "        text-align: right;\n",
       "    }\n",
       "</style>\n",
       "<table border=\"1\" class=\"dataframe\">\n",
       "  <thead>\n",
       "    <tr style=\"text-align: right;\">\n",
       "      <th></th>\n",
       "      <th>FilmID</th>\n",
       "      <th>Year</th>\n",
       "    </tr>\n",
       "  </thead>\n",
       "  <tbody>\n",
       "    <tr>\n",
       "      <th>0</th>\n",
       "      <td>tt0082449</td>\n",
       "      <td>1981</td>\n",
       "    </tr>\n",
       "    <tr>\n",
       "      <th>1</th>\n",
       "      <td>tt0076851</td>\n",
       "      <td>1977</td>\n",
       "    </tr>\n",
       "    <tr>\n",
       "      <th>2</th>\n",
       "      <td>tt0074130</td>\n",
       "      <td>1976</td>\n",
       "    </tr>\n",
       "    <tr>\n",
       "      <th>3</th>\n",
       "      <td>tt0072308</td>\n",
       "      <td>1974</td>\n",
       "    </tr>\n",
       "    <tr>\n",
       "      <th>4</th>\n",
       "      <td>tt0064664</td>\n",
       "      <td>1969</td>\n",
       "    </tr>\n",
       "    <tr>\n",
       "      <th>...</th>\n",
       "      <td>...</td>\n",
       "      <td>...</td>\n",
       "    </tr>\n",
       "    <tr>\n",
       "      <th>191842</th>\n",
       "      <td>tt7341842</td>\n",
       "      <td>2017</td>\n",
       "    </tr>\n",
       "    <tr>\n",
       "      <th>191843</th>\n",
       "      <td>tt4844288</td>\n",
       "      <td>2015</td>\n",
       "    </tr>\n",
       "    <tr>\n",
       "      <th>191848</th>\n",
       "      <td>tt10350626</td>\n",
       "      <td>2020</td>\n",
       "    </tr>\n",
       "    <tr>\n",
       "      <th>191849</th>\n",
       "      <td>tt10230404</td>\n",
       "      <td>2020</td>\n",
       "    </tr>\n",
       "    <tr>\n",
       "      <th>191850</th>\n",
       "      <td>tt7638344</td>\n",
       "      <td>2018</td>\n",
       "    </tr>\n",
       "  </tbody>\n",
       "</table>\n",
       "<p>44456 rows × 2 columns</p>\n",
       "</div>"
      ],
      "text/plain": [
       "            FilmID  Year\n",
       "0        tt0082449  1981\n",
       "1        tt0076851  1977\n",
       "2        tt0074130  1976\n",
       "3        tt0072308  1974\n",
       "4        tt0064664  1969\n",
       "...            ...   ...\n",
       "191842   tt7341842  2017\n",
       "191843   tt4844288  2015\n",
       "191848  tt10350626  2020\n",
       "191849  tt10230404  2020\n",
       "191850   tt7638344  2018\n",
       "\n",
       "[44456 rows x 2 columns]"
      ]
     },
     "execution_count": 26,
     "metadata": {},
     "output_type": "execute_result"
    }
   ],
   "source": [
    "new_df = df_cast[['FilmID', 'Year']]\n",
    "unique_df = new_df.drop_duplicates(subset=['FilmID'])\n",
    "\n",
    "unique_df"
   ]
  },
  {
   "cell_type": "code",
   "execution_count": 32,
   "id": "71023eee",
   "metadata": {},
   "outputs": [],
   "source": [
    "ia = IMDb()"
   ]
  },
  {
   "cell_type": "code",
   "execution_count": 45,
   "id": "a80d5b06",
   "metadata": {},
   "outputs": [],
   "source": [
    "def get_imdb_data(film_id):\n",
    "    film_id = film_id.lstrip('tt')\n",
    "    try:\n",
    "        movie = ia.get_movie(film_id)\n",
    "        genre = movie['genres'][0] if 'genres' in movie else None\n",
    "        cast = [actor['name'] for actor in movie['cast']][:10] if 'cast' in movie else None\n",
    "        director = movie['director'][0]['name'] if 'director' in movie else None\n",
    "        return genre, cast, director\n",
    "    except Exception as e:\n",
    "        print(f\"Error getting data for film {film_id}: {e}\")\n",
    "        return None, None, None"
   ]
  },
  {
   "cell_type": "code",
   "execution_count": null,
   "id": "1a5e0457",
   "metadata": {},
   "outputs": [],
   "source": [
    "unique_df['Genre'], unique_df['Cast'], unique_df['Director'] = zip(*unique_df['FilmID'].apply(get_imdb_data))"
   ]
  }
 ],
 "metadata": {
  "kernelspec": {
   "display_name": "Python 3 (ipykernel)",
   "language": "python",
   "name": "python3"
  },
  "language_info": {
   "codemirror_mode": {
    "name": "ipython",
    "version": 3
   },
   "file_extension": ".py",
   "mimetype": "text/x-python",
   "name": "python",
   "nbconvert_exporter": "python",
   "pygments_lexer": "ipython3",
   "version": "3.10.6"
  }
 },
 "nbformat": 4,
 "nbformat_minor": 5
}
