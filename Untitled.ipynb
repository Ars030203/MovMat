{
 "cells": [
  {
   "cell_type": "code",
   "execution_count": 12,
   "id": "b02e6d59",
   "metadata": {},
   "outputs": [],
   "source": [
    "import pandas as pd\n",
    "import numpy as np"
   ]
  },
  {
   "cell_type": "code",
   "execution_count": 9,
   "id": "6ed9a15e",
   "metadata": {},
   "outputs": [
    {
     "data": {
      "text/plain": [
       "1997.9529480437582"
      ]
     },
     "execution_count": 9,
     "metadata": {},
     "output_type": "execute_result"
    }
   ],
   "source": [
    "df = pd.read_csv('./actorfilms.csv')\n",
    "\n",
    "# print(f'from : {df['Year'].min()}, to {df['Year'].max()}')\n",
    "df['Year'].mean()"
   ]
  },
  {
   "cell_type": "code",
   "execution_count": 25,
   "id": "1caa04ba",
   "metadata": {},
   "outputs": [
    {
     "data": {
      "text/plain": [
       "0         False\n",
       "1         False\n",
       "2         False\n",
       "3         False\n",
       "4         False\n",
       "          ...  \n",
       "191868    False\n",
       "191869    False\n",
       "191870    False\n",
       "191871    False\n",
       "191872    False\n",
       "Name: FilmID, Length: 191873, dtype: bool"
      ]
     },
     "execution_count": 25,
     "metadata": {},
     "output_type": "execute_result"
    }
   ],
   "source": [
    "df['FilmID'== \"tt0371746\" ] "
   ]
  },
  {
   "cell_type": "code",
   "execution_count": 26,
   "id": "f3a82c47",
   "metadata": {
    "scrolled": true
   },
   "outputs": [
    {
     "name": "stdout",
     "output_type": "stream",
     "text": [
      "Defaulting to user installation because normal site-packages is not writeable\n",
      "Collecting cinemagoer\n",
      "  Downloading cinemagoer-2023.5.1-py3-none-any.whl (297 kB)\n",
      "\u001b[2K     \u001b[38;2;114;156;31m━━━━━━━━━━━━━━━━━━━━━━━━━━━━━━━━━━━━━\u001b[0m \u001b[32m297.2/297.2 kB\u001b[0m \u001b[31m262.2 kB/s\u001b[0m eta \u001b[36m0:00:00\u001b[0m kB/s\u001b[0m eta \u001b[36m0:00:01\u001b[0m:01\u001b[0m\n",
      "\u001b[?25hCollecting SQLAlchemy (from cinemagoer)\n",
      "  Downloading SQLAlchemy-2.0.18-cp310-cp310-manylinux_2_17_x86_64.manylinux2014_x86_64.whl (2.7 MB)\n",
      "\u001b[2K     \u001b[38;2;114;156;31m━━━━━━━━━━━━━━━━━━━━━━━━━━━━━━━━━━━━━━━━\u001b[0m \u001b[32m2.7/2.7 MB\u001b[0m \u001b[31m265.9 kB/s\u001b[0m eta \u001b[36m0:00:00\u001b[0mm eta \u001b[36m0:00:01\u001b[0m[36m0:00:01\u001b[0m\n",
      "\u001b[?25hRequirement already satisfied: lxml in /home/selector/.local/lib/python3.10/site-packages (from cinemagoer) (4.9.1)\n",
      "Requirement already satisfied: typing-extensions>=4.2.0 in /home/selector/.local/lib/python3.10/site-packages (from SQLAlchemy->cinemagoer) (4.3.0)\n",
      "Collecting greenlet!=0.4.17 (from SQLAlchemy->cinemagoer)\n",
      "  Using cached greenlet-2.0.2-cp310-cp310-manylinux_2_17_x86_64.manylinux2014_x86_64.whl (613 kB)\n",
      "Installing collected packages: greenlet, SQLAlchemy, cinemagoer\n",
      "Successfully installed SQLAlchemy-2.0.18 cinemagoer-2023.5.1 greenlet-2.0.2\n"
     ]
    }
   ],
   "source": [
    "! pip install cinemagoer\n"
   ]
  },
  {
   "cell_type": "code",
   "execution_count": 34,
   "id": "c9c0e71d",
   "metadata": {},
   "outputs": [
    {
     "data": {
      "text/plain": [
       "<Movie id:0948470[http] title:_The Amazing Spider-Man (2012)_>"
      ]
     },
     "execution_count": 34,
     "metadata": {},
     "output_type": "execute_result"
    }
   ],
   "source": [
    "from imdb import Cinemagoer\n",
    "\n",
    "# create an instance of the Cinemagoer class\n",
    "ia = Cinemagoer()\n",
    "\n",
    "# get a movie\n",
    "movie = ia.get_movie('0948470')\n",
    "movie\n",
    "# # print the genres of the movie\n",
    "# print('Cast:')\n",
    "# for genre in movie['cast']:\n",
    "#     print(genre)\n"
   ]
  },
  {
   "cell_type": "code",
   "execution_count": 19,
   "id": "f3063ec1",
   "metadata": {},
   "outputs": [
    {
     "data": {
      "text/html": [
       "<div>\n",
       "<style scoped>\n",
       "    .dataframe tbody tr th:only-of-type {\n",
       "        vertical-align: middle;\n",
       "    }\n",
       "\n",
       "    .dataframe tbody tr th {\n",
       "        vertical-align: top;\n",
       "    }\n",
       "\n",
       "    .dataframe thead th {\n",
       "        text-align: right;\n",
       "    }\n",
       "</style>\n",
       "<table border=\"1\" class=\"dataframe\">\n",
       "  <thead>\n",
       "    <tr style=\"text-align: right;\">\n",
       "      <th></th>\n",
       "      <th>Actor</th>\n",
       "      <th>ActorID</th>\n",
       "      <th>Film</th>\n",
       "      <th>Year</th>\n",
       "      <th>Votes</th>\n",
       "      <th>Rating</th>\n",
       "      <th>FilmID</th>\n",
       "    </tr>\n",
       "  </thead>\n",
       "  <tbody>\n",
       "    <tr>\n",
       "      <th>0</th>\n",
       "      <td>Fred Astaire</td>\n",
       "      <td>nm0000001</td>\n",
       "      <td>Ghost Story</td>\n",
       "      <td>1981</td>\n",
       "      <td>7731</td>\n",
       "      <td>6.3</td>\n",
       "      <td>tt0082449</td>\n",
       "    </tr>\n",
       "    <tr>\n",
       "      <th>1</th>\n",
       "      <td>Fred Astaire</td>\n",
       "      <td>nm0000001</td>\n",
       "      <td>The Purple Taxi</td>\n",
       "      <td>1977</td>\n",
       "      <td>533</td>\n",
       "      <td>6.6</td>\n",
       "      <td>tt0076851</td>\n",
       "    </tr>\n",
       "    <tr>\n",
       "      <th>2</th>\n",
       "      <td>Fred Astaire</td>\n",
       "      <td>nm0000001</td>\n",
       "      <td>The Amazing Dobermans</td>\n",
       "      <td>1976</td>\n",
       "      <td>369</td>\n",
       "      <td>5.3</td>\n",
       "      <td>tt0074130</td>\n",
       "    </tr>\n",
       "    <tr>\n",
       "      <th>3</th>\n",
       "      <td>Fred Astaire</td>\n",
       "      <td>nm0000001</td>\n",
       "      <td>The Towering Inferno</td>\n",
       "      <td>1974</td>\n",
       "      <td>39888</td>\n",
       "      <td>7.0</td>\n",
       "      <td>tt0072308</td>\n",
       "    </tr>\n",
       "    <tr>\n",
       "      <th>4</th>\n",
       "      <td>Fred Astaire</td>\n",
       "      <td>nm0000001</td>\n",
       "      <td>Midas Run</td>\n",
       "      <td>1969</td>\n",
       "      <td>123</td>\n",
       "      <td>4.8</td>\n",
       "      <td>tt0064664</td>\n",
       "    </tr>\n",
       "  </tbody>\n",
       "</table>\n",
       "</div>"
      ],
      "text/plain": [
       "          Actor    ActorID                   Film  Year  Votes  Rating  \\\n",
       "0  Fred Astaire  nm0000001            Ghost Story  1981   7731     6.3   \n",
       "1  Fred Astaire  nm0000001        The Purple Taxi  1977    533     6.6   \n",
       "2  Fred Astaire  nm0000001  The Amazing Dobermans  1976    369     5.3   \n",
       "3  Fred Astaire  nm0000001   The Towering Inferno  1974  39888     7.0   \n",
       "4  Fred Astaire  nm0000001              Midas Run  1969    123     4.8   \n",
       "\n",
       "      FilmID  \n",
       "0  tt0082449  \n",
       "1  tt0076851  \n",
       "2  tt0074130  \n",
       "3  tt0072308  \n",
       "4  tt0064664  "
      ]
     },
     "execution_count": 19,
     "metadata": {},
     "output_type": "execute_result"
    }
   ],
   "source": [
    "df.head()\n"
   ]
  }
 ],
 "metadata": {
  "kernelspec": {
   "display_name": "Python 3 (ipykernel)",
   "language": "python",
   "name": "python3"
  },
  "language_info": {
   "codemirror_mode": {
    "name": "ipython",
    "version": 3
   },
   "file_extension": ".py",
   "mimetype": "text/x-python",
   "name": "python",
   "nbconvert_exporter": "python",
   "pygments_lexer": "ipython3",
   "version": "3.10.6"
  }
 },
 "nbformat": 4,
 "nbformat_minor": 5
}
